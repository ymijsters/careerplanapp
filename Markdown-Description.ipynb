{
 "cells": [
  {
   "cell_type": "markdown",
   "metadata": {},
   "source": [
    "This will be my start to a career planner-esque tool that might lead me to manager. \n",
    "I will make a tool that inputs the following:\n",
    "- Requirements for promotion from multiple sources\n",
    "- Objectives for the year\n",
    "- Projects I am working on \n",
    "\n",
    "Subsequently, the tool has the folloing capabilities\n",
    "- Map projects on objectives and those on the requirements\n",
    "- Analyze meeting of requirements based on objectives and meeting on objectives based on projects\n",
    "- Planning to complete objectives over an FY \n",
    "- Weekly and Monthly to-do tasks to meet objectives"
   ]
  },
  {
   "cell_type": "code",
   "execution_count": null,
   "metadata": {},
   "outputs": [],
   "source": []
  }
 ],
 "metadata": {
  "kernelspec": {
   "display_name": "Python 3.9.7 64-bit",
   "language": "python",
   "name": "python3"
  },
  "language_info": {
   "codemirror_mode": {
    "name": "ipython",
    "version": 3
   },
   "file_extension": ".py",
   "mimetype": "text/x-python",
   "name": "python",
   "nbconvert_exporter": "python",
   "pygments_lexer": "ipython3",
   "version": "3.9.7"
  },
  "orig_nbformat": 4,
  "vscode": {
   "interpreter": {
    "hash": "efa2bf59ed88324cbf189535af99efaa048f9e830ef4eb4364c3a8bb48e4b80a"
   }
  }
 },
 "nbformat": 4,
 "nbformat_minor": 2
}
